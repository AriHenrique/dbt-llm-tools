{
 "cells": [
  {
   "cell_type": "code",
   "execution_count": null,
   "id": "e25a6c09-f743-410c-a7d8-00e2c1f598cc",
   "metadata": {},
   "outputs": [],
   "source": []
  }
 ],
 "metadata": {
  "kernelspec": {
   "display_name": "",
   "name": ""
  },
  "language_info": {
   "name": ""
  }
 },
 "nbformat": 4,
 "nbformat_minor": 5
}
